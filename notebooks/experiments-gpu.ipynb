{
 "cells": [
  {
   "cell_type": "code",
   "execution_count": 2,
   "metadata": {},
   "outputs": [],
   "source": [
    "import torch\n",
    "import numpy as np\n",
    "import numpy.linalg as la\n",
    "from scipy.optimize import minimize\n",
    "import sys\n",
    "import matplotlib.pyplot as plt"
   ]
  },
  {
   "cell_type": "code",
   "execution_count": 18,
   "metadata": {},
   "outputs": [],
   "source": [
    "device = torch.device(\"cuda:0\")\n",
    "\n",
    "\n",
    "n = 50\n",
    "\n",
    "kappa = 100\n",
    "des = np.random.uniform(low = 1, high = kappa, size = n) \n",
    "des = 1 + (kappa - 1) * (des - min(des)) / (max(des) - min(des))\n",
    "s = np.diag(des)\n",
    "q, _ = la.qr(np.random.rand(n, n))\n",
    "A = np.array([q.T @ s @ q]).squeeze()"
   ]
  },
  {
   "cell_type": "code",
   "execution_count": 19,
   "metadata": {},
   "outputs": [],
   "source": [
    "scale = 2\n",
    "\n",
    "def phi(x):\n",
    "    return x @ A @ x\n",
    "\n",
    "def noisy_phi(x):\n",
    "    xi = np.random.normal(0, scale)\n",
    "    xi = torch.tensor(xi).to(device)\n",
    "    return phi(x) + xi\n",
    "\n",
    "def grad(z, tau, e):\n",
    "    return n * (noisy_phi(z + tau * e) - noisy_phi(z - tau * e)) / (2 * tau) * e\n",
    "\n",
    "def step(x_prev, gamma, tau, batch_size):\n",
    "    g = np.zeros(n)\n",
    "    for _ in range(batch_size):\n",
    "        e = np.random.normal(0, 1, n)\n",
    "        e /= la.norm(e, 2)\n",
    "        e = torch.tensor(e).to(device)\n",
    "        g += grad(x_prev, tau, e)\n",
    "        \n",
    "    g /= batch_size\n",
    "    return x_prev - gamma * g"
   ]
  },
  {
   "cell_type": "code",
   "execution_count": 20,
   "metadata": {},
   "outputs": [
    {
     "name": "stdout",
     "output_type": "stream",
     "text": [
      "func: 1.10e-12\n",
      "[-1.34182547e-07 -9.72786609e-08  1.15665674e-07  1.19424371e-08\n",
      " -9.56995083e-08  1.87948061e-07 -6.75746669e-08 -5.24731363e-08\n",
      " -9.18484841e-08 -2.32687043e-07  9.52016703e-08 -1.36910980e-07\n",
      "  1.85219827e-07 -1.51179952e-07 -2.00253608e-08 -2.43340634e-07\n",
      " -4.92811922e-08 -1.72551796e-07  1.70443940e-07 -1.47516657e-07\n",
      "  7.04512892e-09 -3.90097560e-08 -1.11245682e-07  7.85520214e-08\n",
      " -8.85654583e-08 -1.12581731e-07  1.19771165e-07  1.38438698e-07\n",
      " -2.07739249e-07 -1.43252822e-07 -1.74786474e-08  1.07954353e-07\n",
      " -1.13886458e-08 -9.44912653e-08  4.43292726e-08 -5.64190205e-08\n",
      " -6.62584725e-08  1.37976846e-07 -7.43825093e-08 -7.88136499e-08\n",
      " -1.57132949e-07  1.87500707e-09  1.67960273e-07 -1.14883433e-07\n",
      " -1.19134806e-07  7.86042161e-08 -4.67815687e-08 -1.88843263e-08\n",
      " -1.30562247e-07 -2.01782503e-07]\n",
      "mu = 1.00, L = 100.00\n"
     ]
    }
   ],
   "source": [
    "x0 = np.random.uniform(low = -100, high = 100, size = n)\n",
    "z = minimize(phi, x0)\n",
    "print(\"func: {:.2e}\".format(z.fun))\n",
    "print(z.x)\n",
    "\n",
    "mu = min(la.eig(A)[0])\n",
    "L = max(la.eig(A)[0])\n",
    "\n",
    "print('mu = {:.2f}, L = {:.2f}'.format(mu, L))"
   ]
  },
  {
   "cell_type": "code",
   "execution_count": 21,
   "metadata": {},
   "outputs": [
    {
     "ename": "TypeError",
     "evalue": "unsupported operand type(s) for +=: 'numpy.ndarray' and 'Tensor'",
     "output_type": "error",
     "traceback": [
      "\u001b[0;31m---------------------------------------------------------------------------\u001b[0m",
      "\u001b[0;31mTypeError\u001b[0m                                 Traceback (most recent call last)",
      "\u001b[0;32m<ipython-input-21-634aadce50e6>\u001b[0m in \u001b[0;36m<module>\u001b[0;34m\u001b[0m\n\u001b[1;32m     14\u001b[0m     \u001b[0mtau\u001b[0m \u001b[0;34m=\u001b[0m \u001b[0;36m0.01\u001b[0m\u001b[0;34m\u001b[0m\u001b[0;34m\u001b[0m\u001b[0m\n\u001b[1;32m     15\u001b[0m     \u001b[0mbatch_size\u001b[0m \u001b[0;34m=\u001b[0m \u001b[0;36m10\u001b[0m\u001b[0;34m\u001b[0m\u001b[0;34m\u001b[0m\u001b[0m\n\u001b[0;32m---> 16\u001b[0;31m     \u001b[0mx_next\u001b[0m \u001b[0;34m=\u001b[0m \u001b[0mstep\u001b[0m\u001b[0;34m(\u001b[0m\u001b[0mx_prev\u001b[0m\u001b[0;34m,\u001b[0m \u001b[0mgamma\u001b[0m\u001b[0;34m,\u001b[0m \u001b[0mtau\u001b[0m\u001b[0;34m,\u001b[0m \u001b[0mbatch_size\u001b[0m\u001b[0;34m)\u001b[0m\u001b[0;34m\u001b[0m\u001b[0;34m\u001b[0m\u001b[0m\n\u001b[0m\u001b[1;32m     17\u001b[0m     \u001b[0merr\u001b[0m \u001b[0;34m=\u001b[0m \u001b[0mla\u001b[0m\u001b[0;34m.\u001b[0m\u001b[0mnorm\u001b[0m\u001b[0;34m(\u001b[0m\u001b[0mx_next\u001b[0m \u001b[0;34m-\u001b[0m \u001b[0mz\u001b[0m\u001b[0;34m.\u001b[0m\u001b[0mx\u001b[0m\u001b[0;34m,\u001b[0m \u001b[0;36m2\u001b[0m\u001b[0;34m)\u001b[0m\u001b[0;34m\u001b[0m\u001b[0;34m\u001b[0m\u001b[0m\n\u001b[1;32m     18\u001b[0m     \u001b[0merrors\u001b[0m\u001b[0;34m.\u001b[0m\u001b[0mappend\u001b[0m\u001b[0;34m(\u001b[0m\u001b[0merr\u001b[0m\u001b[0;34m)\u001b[0m\u001b[0;34m\u001b[0m\u001b[0;34m\u001b[0m\u001b[0m\n",
      "\u001b[0;32m<ipython-input-19-c30aed38a084>\u001b[0m in \u001b[0;36mstep\u001b[0;34m(x_prev, gamma, tau, batch_size)\u001b[0m\n\u001b[1;32m     18\u001b[0m         \u001b[0me\u001b[0m \u001b[0;34m/=\u001b[0m \u001b[0mla\u001b[0m\u001b[0;34m.\u001b[0m\u001b[0mnorm\u001b[0m\u001b[0;34m(\u001b[0m\u001b[0me\u001b[0m\u001b[0;34m,\u001b[0m \u001b[0;36m2\u001b[0m\u001b[0;34m)\u001b[0m\u001b[0;34m\u001b[0m\u001b[0;34m\u001b[0m\u001b[0m\n\u001b[1;32m     19\u001b[0m         \u001b[0me\u001b[0m \u001b[0;34m=\u001b[0m \u001b[0mtorch\u001b[0m\u001b[0;34m.\u001b[0m\u001b[0mtensor\u001b[0m\u001b[0;34m(\u001b[0m\u001b[0me\u001b[0m\u001b[0;34m)\u001b[0m\u001b[0;34m.\u001b[0m\u001b[0mto\u001b[0m\u001b[0;34m(\u001b[0m\u001b[0mdevice\u001b[0m\u001b[0;34m)\u001b[0m\u001b[0;34m\u001b[0m\u001b[0;34m\u001b[0m\u001b[0m\n\u001b[0;32m---> 20\u001b[0;31m         \u001b[0mg\u001b[0m \u001b[0;34m+=\u001b[0m \u001b[0mgrad\u001b[0m\u001b[0;34m(\u001b[0m\u001b[0mx_prev\u001b[0m\u001b[0;34m,\u001b[0m \u001b[0mtau\u001b[0m\u001b[0;34m,\u001b[0m \u001b[0me\u001b[0m\u001b[0;34m)\u001b[0m\u001b[0;34m\u001b[0m\u001b[0;34m\u001b[0m\u001b[0m\n\u001b[0m\u001b[1;32m     21\u001b[0m \u001b[0;34m\u001b[0m\u001b[0m\n\u001b[1;32m     22\u001b[0m     \u001b[0mg\u001b[0m \u001b[0;34m/=\u001b[0m \u001b[0mbatch_size\u001b[0m\u001b[0;34m\u001b[0m\u001b[0;34m\u001b[0m\u001b[0m\n",
      "\u001b[0;31mTypeError\u001b[0m: unsupported operand type(s) for +=: 'numpy.ndarray' and 'Tensor'"
     ]
    }
   ],
   "source": [
    "x_prev = torch.tensor(x0).to(device)\n",
    "A = torch.tensor(A).to(device)\n",
    "\n",
    "N = 100000\n",
    "alpha = 0.8\n",
    "beta = 1\n",
    "\n",
    "\n",
    "errors = []\n",
    "\n",
    "\n",
    "for k in range(N):\n",
    "    gamma = 0.0001\n",
    "    tau = 0.01\n",
    "    batch_size = 10\n",
    "    x_next = step(x_prev, gamma, tau, batch_size)\n",
    "    err = la.norm(x_next - z.x, 2)\n",
    "    errors.append(err)\n",
    "    if k % 1000 == 0:\n",
    "        sys.stdout.write(\"\\r %d. error %.3e\" % (k, err))\n",
    "    x_prev = x_next\n",
    "    "
   ]
  },
  {
   "cell_type": "code",
   "execution_count": null,
   "metadata": {},
   "outputs": [],
   "source": [
    "x = range(N)\n",
    "plt.plot(x, errors)\n",
    "plt.xlabel(\"iteration\")\n",
    "plt.ylabel(\"error\")\n",
    "plt.grid()\n",
    "plt.show()"
   ]
  },
  {
   "cell_type": "code",
   "execution_count": 243,
   "metadata": {},
   "outputs": [
    {
     "data": {
      "text/plain": [
       "12879.73454292986"
      ]
     },
     "execution_count": 243,
     "metadata": {},
     "output_type": "execute_result"
    }
   ],
   "source": [
    "noisy_phi(x_next)"
   ]
  },
  {
   "cell_type": "code",
   "execution_count": 244,
   "metadata": {},
   "outputs": [
    {
     "data": {
      "text/plain": [
       "22.026919600840937"
      ]
     },
     "execution_count": 244,
     "metadata": {},
     "output_type": "execute_result"
    }
   ],
   "source": [
    "errors[-1]"
   ]
  },
  {
   "cell_type": "code",
   "execution_count": 210,
   "metadata": {},
   "outputs": [
    {
     "data": {
      "text/plain": [
       "[<matplotlib.lines.Line2D at 0x7f2d4d059430>]"
      ]
     },
     "execution_count": 210,
     "metadata": {},
     "output_type": "execute_result"
    },
    {
     "data": {
      "image/png": "[encoded data removed]",
      "text/plain": [
       "<Figure size 432x288 with 1 Axes>"
      ]
     },
     "metadata": {
      "needs_background": "light"
     },
     "output_type": "display_data"
    }
   ],
   "source": [
    "x = np.arange(0, N)\n",
    "y = x ** alpha\n",
    "\n",
    "plt.plot(x,y)"
   ]
  },
  {
   "cell_type": "code",
   "execution_count": null,
   "metadata": {},
   "outputs": [],
   "source": []
  }
 ],
 "metadata": {
  "kernelspec": {
   "display_name": "Python 3",
   "language": "python",
   "name": "python3"
  },
  "language_info": {
   "codemirror_mode": {
    "name": "ipython",
    "version": 3
   },
   "file_extension": ".py",
   "mimetype": "text/x-python",
   "name": "python",
   "nbconvert_exporter": "python",
   "pygments_lexer": "ipython3",
   "version": "3.8.5"
  }
 },
 "nbformat": 4,
 "nbformat_minor": 4
}
